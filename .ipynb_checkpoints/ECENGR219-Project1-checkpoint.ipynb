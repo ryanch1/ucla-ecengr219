{
 "cells": [
  {
   "cell_type": "markdown",
   "metadata": {},
   "source": [
    "### UCLA EC ENGR 219: Large Scale Data Mining Models and Algorithms - Project #1"
   ]
  },
  {
   "cell_type": "markdown",
   "metadata": {},
   "source": [
    "## Problem 1"
   ]
  },
  {
   "cell_type": "markdown",
   "metadata": {},
   "source": [
    "QUESTION 1: To get started, plot a histogram of the number of training documents for each\n",
    "of the 20 categories to check if they are evenly distributed."
   ]
  },
  {
   "cell_type": "code",
   "execution_count": 89,
   "metadata": {},
   "outputs": [
    {
     "name": "stdout",
     "output_type": "stream",
     "text": [
      "{0: 'alt.atheism',\n",
      " 1: 'comp.graphics',\n",
      " 2: 'comp.os.ms-windows.misc',\n",
      " 3: 'comp.sys.ibm.pc.hardware',\n",
      " 4: 'comp.sys.mac.hardware',\n",
      " 5: 'comp.windows.x',\n",
      " 6: 'misc.forsale',\n",
      " 7: 'rec.autos',\n",
      " 8: 'rec.motorcycles',\n",
      " 9: 'rec.sport.baseball',\n",
      " 10: 'rec.sport.hockey',\n",
      " 11: 'sci.crypt',\n",
      " 12: 'sci.electronics',\n",
      " 13: 'sci.med',\n",
      " 14: 'sci.space',\n",
      " 15: 'soc.religion.christian',\n",
      " 16: 'talk.politics.guns',\n",
      " 17: 'talk.politics.mideast',\n",
      " 18: 'talk.politics.misc',\n",
      " 19: 'talk.religion.misc'}\n",
      "'Dimensions of Array (how many articles): (11314,)'\n"
     ]
    }
   ],
   "source": [
    "# Have to pip3 install <packages> on local machine before import.\n",
    "import numpy as np\n",
    "import matplotlib.pyplot as plt\n",
    "from pprint import pprint\n",
    "from sklearn.datasets import fetch_20newsgroups\n",
    "from matplotlib import colors\n",
    "from matplotlib.ticker import PercentFormatter\n",
    "\n",
    "# Downloads and loads training set data ~/scikit_learn_data/20news_home\n",
    "newsgroups_train = fetch_20newsgroups(subset='train')\n",
    "\n",
    "# .shape() prints the size/dimensions of the array\n",
    "newsgroups_train.filenames.shape\n",
    "\n",
    "# .target is the integer; corresponds to a news-category\n",
    "# { 0:'alt.atheism', 1:'comp.graphics' ... 19:'talk.religion.misc'}\n",
    "category_dict = dict(zip(range(20),list(newsgroups_train.target_names)))\n",
    "pprint(category_dict)\n",
    "\n",
    "pprint(\"Dimensions of Array (how many articles): \" + str(newsgroups_train.target.shape))"
   ]
  },
  {
   "cell_type": "code",
   "execution_count": 91,
   "metadata": {},
   "outputs": [
    {
     "data": {
      "text/plain": [
       "(array([480., 584., 591., 590., 578., 593., 585., 594., 598., 597., 600.,\n",
       "        595., 591., 594., 593., 599., 546., 564., 465., 377.]),\n",
       " array([-0.5,  0.5,  1.5,  2.5,  3.5,  4.5,  5.5,  6.5,  7.5,  8.5,  9.5,\n",
       "        10.5, 11.5, 12.5, 13.5, 14.5, 15.5, 16.5, 17.5, 18.5, 19.5]),\n",
       " <a list of 20 Patch objects>)"
      ]
     },
     "execution_count": 91,
     "metadata": {},
     "output_type": "execute_result"
    },
    {
     "data": {
      "image/png": "[encoded data removed]",
      "text/plain": [
       "<Figure size 432x288 with 1 Axes>"
      ]
     },
     "metadata": {
      "needs_background": "light"
     },
     "output_type": "display_data"
    }
   ],
   "source": [
    "# Print Histogram\n",
    "data = np.array(newsgroups_train.target)\n",
    "\n",
    "# Center data around integers\n",
    "d = np.diff(np.unique(data)).min()\n",
    "left_of_first_bin = data.min() - float(d)/2\n",
    "right_of_last_bin = data.max() + float(d)/2\n",
    "bins = np.arange(left_of_first_bin, right_of_last_bin + d, d)\n",
    "\n",
    "# Plot Labels and Formatting\n",
    "# Maps .target to .target_names (indexes 0-19)\n",
    "plt.xticks(range(20),list(newsgroups_train.target_names), rotation='vertical')\n",
    "plt.title(\"\")\n",
    "plt.xlabel(\"News Categories\")\n",
    "plt.ylabel(\"Number of Articles\")\n",
    "plt.hist(data, bins, align='mid', rwidth=0.75)\n"
   ]
  },
  {
   "cell_type": "markdown",
   "metadata": {},
   "source": [
    "## Problem 2"
   ]
  },
  {
   "cell_type": "markdown",
   "metadata": {},
   "source": [
    "QUESTION 2: Use the following specs to extract features from the textual data:\n",
    "- Use the “english” stopwords of the CountVectorizer\n",
    "- Exclude terms that are numbers (e.g. “123”, “-45”, “6.7” etc.)\n",
    "- Perform lemmatization with nltk.wordnet.WordNetLemmatizer and pos_tag\n",
    "- Use min_df=3\n",
    "Report the shape of the TF-IDF matrices of the train and test subsets respectively."
   ]
  },
  {
   "cell_type": "code",
   "execution_count": 101,
   "metadata": {},
   "outputs": [],
   "source": [
    "# Problem Setup/Definition:\n",
    "import numpy as np\n",
    "np.random.seed(42)\n",
    "import random\n",
    "random.seed(42)\n",
    "\n",
    "# Only take a specific selection (8) of the 20 available categories\n",
    "categories = ['comp.graphics', 'comp.os.ms-windows.misc',\n",
    "'comp.sys.ibm.pc.hardware', 'comp.sys.mac.hardware',\n",
    "'rec.autos', 'rec.motorcycles',\n",
    "'rec.sport.baseball', 'rec.sport.hockey']\n",
    "\n",
    "# Load a training & test datasets consisting of those 8 categories\n",
    "train_dataset = fetch_20newsgroups(subset = 'train', categories = categories, shuffle = True, random_state = None)\n",
    "test_dataset = fetch_20newsgroups(subset = 'test', categories = categories, shuffle = True, random_state = None)"
   ]
  },
  {
   "cell_type": "code",
   "execution_count": null,
   "metadata": {},
   "outputs": [],
   "source": []
  }
 ],
 "metadata": {
  "kernelspec": {
   "display_name": "Python 3",
   "language": "python",
   "name": "python3"
  },
  "language_info": {
   "codemirror_mode": {
    "name": "ipython",
    "version": 3
   },
   "file_extension": ".py",
   "mimetype": "text/x-python",
   "name": "python",
   "nbconvert_exporter": "python",
   "pygments_lexer": "ipython3",
   "version": "3.7.5"
  }
 },
 "nbformat": 4,
 "nbformat_minor": 2
}
